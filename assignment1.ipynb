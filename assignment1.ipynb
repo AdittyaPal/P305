{
 "cells": [
  {
   "cell_type": "markdown",
   "id": "8cf3ccd4",
   "metadata": {},
   "source": [
    "$$\n",
    "\\hat{H}=\n",
    "\\begin{bmatrix}\n",
    "E_0 & \\beta & 0 & \\cdots \\\\\n",
    "\\beta & E_0 & \\beta & & \\vdots \\\\\n",
    "0 & \\beta & E_0 \\\\\n",
    "\\vdots & & & \\ddots &  \\\\\n",
    " & \\cdots & & & E_0\n",
    "\\end{bmatrix}\n",
    "$$"
   ]
  },
  {
   "cell_type": "code",
   "execution_count": 3,
   "id": "51261f6d",
   "metadata": {},
   "outputs": [
    {
     "data": {
      "application/vnd.jupyter.widget-view+json": {
       "model_id": "92f9bff77932486880612478e6124600",
       "version_major": 2,
       "version_minor": 0
      },
      "text/plain": [
       "interactive(children=(IntSlider(value=1001, description='n', max=2000, min=2), FloatSlider(value=0.0, descript…"
      ]
     },
     "metadata": {},
     "output_type": "display_data"
    },
    {
     "data": {
      "text/plain": [
       "<function __main__.eigenvals(n, alpha)>"
      ]
     },
     "execution_count": 3,
     "metadata": {},
     "output_type": "execute_result"
    }
   ],
   "source": [
    "import numpy as np\n",
    "from numpy import linalg as LA\n",
    "from ipywidgets import interact\n",
    "import matplotlib.pyplot as plt\n",
    "\n",
    "plt.rcParams[\"figure.figsize\"]=20,20\n",
    "def eigenvals(n, alpha):\n",
    "    A=np.zeros((n, n), float)\n",
    "    E=10\n",
    "    B=alpha*E\n",
    "    for i in range(0, n):\n",
    "        A[i][i]=E\n",
    "    for i in range(0, n-1):\n",
    "        A[i][i+1]=B\n",
    "    for i in range(0, n-1):\n",
    "        A[i+1][i]=B\n",
    "    w=LA.eigvals(A)\n",
    "\n",
    "    fig, ax=plt.subplots()\n",
    "    ax.hist(w, 2*n)\n",
    "    ax.set_xlabel('Energy of state (E)', fontsize=24)\n",
    "    ax.set_ylabel('Density of states (D(E))', fontsize=24)\n",
    "    ax.set_title('Density of states of a chain of mono-atomic molecules (N=%d, B=%f)' %(n, B), fontsize=28)\n",
    "    plt.tick_params(axis='both', labelsize=20)\n",
    "    plt.show()\n",
    "\n",
    "interact(eigenvals, n=(2, 2000, 1), alpha=(-1.0, 1.0, 0.01))\n"
   ]
  },
  {
   "cell_type": "markdown",
   "id": "c82c485b",
   "metadata": {
    "scrolled": true
   },
   "source": [
    "$$\n",
    "\\hat{H}=\n",
    "\\begin{bmatrix}\n",
    "E_1 & \\beta & 0 & \\cdots \\\\\n",
    "\\beta & E_2 & \\beta & & \\vdots \\\\\n",
    "0 & \\beta & E_1 \\\\\n",
    "\\vdots & & & \\ddots &  \\\\\n",
    " & \\cdots & & & E_i\n",
    "\\end{bmatrix}\n",
    "$$\n",
    "$$\\\\i\\,=\\,1\\,for\\,odd\\,n,\\,2\\,for\\,even\\,n$$"
   ]
  },
  {
   "cell_type": "code",
   "execution_count": 4,
   "id": "1d14a205",
   "metadata": {},
   "outputs": [
    {
     "data": {
      "application/vnd.jupyter.widget-view+json": {
       "model_id": "31556d6ab37c4954bc036248f1b8a1a6",
       "version_major": 2,
       "version_minor": 0
      },
      "text/plain": [
       "interactive(children=(IntSlider(value=1001, description='n', max=2000, min=2), FloatSlider(value=0.0, descript…"
      ]
     },
     "metadata": {},
     "output_type": "display_data"
    },
    {
     "data": {
      "text/plain": [
       "<function __main__.eigenvals(n, alpha)>"
      ]
     },
     "execution_count": 4,
     "metadata": {},
     "output_type": "execute_result"
    }
   ],
   "source": [
    "import numpy as np\n",
    "from numpy import linalg as LA\n",
    "from ipywidgets import interact\n",
    "import matplotlib.pyplot as plt\n",
    "\n",
    "plt.rcParams[\"figure.figsize\"]=20,20\n",
    "def eigenvals(n, alpha):\n",
    "    A=np.zeros((n, n), float)\n",
    "    E_1=10\n",
    "    E_2=15\n",
    "    B=alpha*(E_1-E_2)\n",
    "    for i in range(0, n):\n",
    "        if(i%2==0):\n",
    "            A[i][i]=E_1\n",
    "        else:\n",
    "            A[i][i]=E_2\n",
    "    for i in range(0, n-1):\n",
    "        A[i][i+1]=B\n",
    "    for i in range(0, n-1):\n",
    "        A[i+1][i]=B\n",
    "    w=LA.eigvals(A)\n",
    "\n",
    "    fig, ax=plt.subplots()\n",
    "    ax.hist(w, 2*n)\n",
    "    ax.set_xlabel('Energy of state (E)', fontsize=24)\n",
    "    ax.set_ylabel('Density of states (D(E))', fontsize=24)\n",
    "    ax.set_title('Density of states of a chain of di-atomic molecules (N=%d, B=%f)' %(n, B), fontsize=28)\n",
    "    plt.tick_params(axis='both', labelsize=20)\n",
    "    plt.show()\n",
    "\n",
    "interact(eigenvals, n=(2, 2000, 1), alpha=(-1.0, 1.0, 0.01))"
   ]
  },
  {
   "cell_type": "markdown",
   "id": "93870874",
   "metadata": {},
   "source": [
    "$$\n",
    "\\hat{H}=\n",
    "\\begin{bmatrix}\n",
    "E_0 & \\beta & 0 & \\cdots & \\beta \\\\\n",
    "\\beta & E_0 & \\beta & & \\vdots \\\\\n",
    "0 & \\beta & E_0 \\\\\n",
    "\\vdots & & & \\ddots &  \\\\\n",
    "\\beta & \\cdots & & & E_0\n",
    "\\end{bmatrix}\n",
    "$$"
   ]
  }
 ],
 "metadata": {
  "kernelspec": {
   "display_name": "Python 3",
   "language": "python",
   "name": "python3"
  },
  "language_info": {
   "codemirror_mode": {
    "name": "ipython",
    "version": 3
   },
   "file_extension": ".py",
   "mimetype": "text/x-python",
   "name": "python",
   "nbconvert_exporter": "python",
   "pygments_lexer": "ipython3",
   "version": "3.9.3"
  }
 },
 "nbformat": 4,
 "nbformat_minor": 5
}
